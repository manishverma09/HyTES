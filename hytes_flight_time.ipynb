{
 "cells": [
  {
   "cell_type": "markdown",
   "metadata": {},
   "source": [
    "We want to know the flight times of HyTES so that we can find the nearby Landsat and ECOSTRESS flights. We want to download the information from this site https://hytes.jpl.nasa.gov/order"
   ]
  },
  {
   "cell_type": "code",
   "execution_count": 4,
   "metadata": {},
   "outputs": [],
   "source": [
    "import csv\n",
    "from selectolax.parser import HTMLParser\n",
    "\n",
    "is_cache = False\n",
    "if is_cache:\n",
    "    with open(\"order.html\", \"r\") as order_page:\n",
    "        html = order_page.read()\n",
    "else:\n",
    "    import requests\n",
    "\n",
    "    order = requests.get(\"https://hytes.jpl.nasa.gov/order\")\n",
    "    order.raise_for_status()\n",
    "    html = order.text\n",
    "\n",
    "\n",
    "def html_to_lists(html):\n",
    "    table = HTMLParser(html).css_first(\"table#sortable3\")\n",
    "    return [parse_headers(table)] + parse_rows(table)\n",
    "\n",
    "\n",
    "def parse_headers(table):\n",
    "    headers = [th.text(deep=False) for th in table.css(\"table > thead > tr > th\")]\n",
    "    return headers[0:2] + headers[7:11] + headers[3:7]\n",
    "\n",
    "\n",
    "def parse_rows(table):\n",
    "    trs = table.css(\"table > tbody > tr\")\n",
    "    rows = []\n",
    "    for tr in trs:\n",
    "        rows.append([td.text(deep=False) for td in tr.css(\"tr > td\")])\n",
    "    return rows\n",
    "\n",
    "\n",
    "lists = html_to_lists(html)\n",
    "with open(\"order.csv\", \"w\", newline=\"\") as csvfile:\n",
    "    c = csv.writer(csvfile, dialect=\"unix\")\n",
    "    c.writerows(lists)\n",
    "\n",
    "    \n"
   ]
  },
  {
   "cell_type": "code",
   "execution_count": null,
   "metadata": {},
   "outputs": [],
   "source": []
  }
 ],
 "metadata": {
  "kernelspec": {
   "display_name": "Python 3",
   "language": "python",
   "name": "python3"
  },
  "language_info": {
   "codemirror_mode": {
    "name": "ipython",
    "version": 3
   },
   "file_extension": ".py",
   "mimetype": "text/x-python",
   "name": "python",
   "nbconvert_exporter": "python",
   "pygments_lexer": "ipython3",
   "version": "3.7.6"
  }
 },
 "nbformat": 4,
 "nbformat_minor": 4
}
