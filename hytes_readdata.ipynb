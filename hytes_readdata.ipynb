{
 "cells": [
  {
   "cell_type": "markdown",
   "metadata": {},
   "source": [
    "The products include L1 and L2 data. In L2 we have emissivity and LST. Here are some details from the text files associated with the HyTAS products:\n",
    "\n",
    "### 1. Level 1A Data File\n",
    "Example File Name: 2014-07-06.194610.SaltonSea.Line2-Run1-Segment01-110000-level_1a.dat\n",
    "\n",
    "This file contains calibrated HyTES data in radiance units of W/m^2/µm/sr. The data is recorded with a band interleaved by pixel (BIP) format and contains 32-bit floats with the dimensions:\n",
    "  - 495 samples for data in 2013, 512 samples for data from 2014 and later.\n",
    "  - A variable number of lines\n",
    "  - 256 bands from 7.5-12 µm\n",
    "  - All the specific dimensions for each file are described in its associated header (.hdr) file.\n",
    "\n",
    "Header Files\n",
    "Example File Name: 2014-07-06.194610.SaltonSea.Line2-Run1-Segment01-110000-level_1a.hdr\n",
    "- These text header files specify the parameters of their corresponding .dat file in an human-readable and ENVI-compatible format.\n",
    "\n",
    "### 2. Level 2 Products HDF5 File\n",
    "Example File Name: 2014-07-06.194610.SaltonSea.Line2-Run1-Segment01.L2.hdf5\n",
    "- Level 2 Products are not available for all lines, although most lines from 2014 and later are available.\n",
    "- This file has several attributes of useful data including 'product_version' and 'acquisition_time'\n",
    "- The data are arrays of 32-Bit Float values corresponding to each HyTES pixel and the arrays are shuffled and compressed with GZIP to reduce file size. The HDFs also include Fletcher32 checksums to ensure data integrity. These features are seamlessly supported by standard HDF5 readers.\n",
    "- This file contains several arrays of data representing the Level 2 products as described below:\n",
    "\n",
    "#### 2.1. Emissivity Data\n",
    "\n",
    "This array contains HyTES emissivity spectral data from 8-11.5 µm with the same dimensions as the Level 1A data except it only has the 202 TES 'window bands' instead of 256. This is the standard emissivity product derived using the Temperature Emissivity Separation (TES) algorithm (Gillespie et al., 1998) with an In-Scene Atmospheric Correction (ISAC) approach for HyTES channels from 8-11.5 µm (only clear window channels and well-calibrated data). Spectral emissivity from 7.4-8 µm cannot be accurately derived due to strong water vapor absorption features in this spectral domain. TES is not applied to channels above 11.5 µm due to issues with calibration.\n",
    "\n",
    "#### 2.2. PC Regression (PCemis) Emissivity Data\n",
    "\n",
    "This array contains HyTES emissivity data from 7.4-12 µm with same dimensions as the Level 1A data. In order to produce emissivity for all HyTES bands (e.g. to be used as first guess for retrieving methane at 7.6 µm) we generated a separate PCemis product called L2.PCemis that uses a Principal Component (PC) eigenvector regression approach to produce emissivity for all HyTES channels. The eigenvectors were calculated using a set of ~150 lab spectra similar to the approach used by U. Wisconsin to produce the MODBF product (Seemann et al., 2008). The L2.PCemis produces a smoother spectrum that will fit all the original L2.emiss data, and extend this data below 8 micron and above 11.5 micron, but caution should be used when using this emissivity to identify geologic features because some features may be smoothed out, or absent.\n",
    "\n",
    "#### 2.3. Land Surface Temperature Data File\n",
    "\n",
    "This file contains HyTES Land Surface Temperature (LST) data in units of Kelvin with same dimensions as the Level 1A data except only one band (temperature in Kelvin). Level 2 LST Products are derived from atmospherically corrected level-1 radiance data using the TES algorithm.\n",
    "\n",
    "Check out this site for reading data\n",
    "https://lpdaac.usgs.gov/resources/e-learning/working-daily-nasa-viirs-surface-reflectance-data/\n",
    "\n",
    "### 3. HyTAS specifications\n",
    "\n",
    "Check the details here: https://hytes.jpl.nasa.gov/specifications"
   ]
  },
  {
   "cell_type": "code",
   "execution_count": 3,
   "metadata": {},
   "outputs": [],
   "source": [
    "import h5py\n",
    "import os\n",
    "import matplotlib.pyplot as plt\n",
    "from spectral import *\n",
    "import spectral.io.envi as envi\n",
    "import os\n",
    "import numpy as np\n",
    "import pandas as pd\n",
    "import geopandas as gp\n",
    "%matplotlib inline"
   ]
  },
  {
   "cell_type": "markdown",
   "metadata": {},
   "source": [
    "There is a .hdr (which seems like a ENVI header file), a .dat file and two HDF5 files, one each of L1 and L2 products. \n",
    "\n",
    "In medatadata there four bands. Two of these are latitude and longitude of the centroid of each pixel. The third is altitude in meters and the fourth is Path Length in meters. "
   ]
  },
  {
   "cell_type": "code",
   "execution_count": 4,
   "metadata": {},
   "outputs": [],
   "source": [
    "# Functions\n",
    "\n",
    "def geoInfo (hdrFile):\n",
    "    \"\"\"\n",
    "    Geolocation information of measurements\n",
    "    \n",
    "    Parameters\n",
    "    -----------\n",
    "    (1) hdrFile: string\n",
    "    Name of the ENVI header (.hdr) file obtained from the HyTAS site. The associated .geo.dat file should be in the same directory.\n",
    "    \n",
    "    Returns\n",
    "    ----------\n",
    "    (1) metadata (Dictionary): Metadata as a dictionary\n",
    "    (2) geodata (Labelled numpy array): The four variables: Latitude, Longitude, Altitude, and Path Length\n",
    "    \"\"\"\n",
    "    geo = envi.open(hdrFile)\n",
    "    metadata = geo.metadata\n",
    "    lat = geo.read_band(0)\n",
    "    long = geo.read_band(1)\n",
    "    altitude = geo.read_band(2)\n",
    "    pathlength = geo.read_band(3)\n",
    "    \n",
    "    geodata = np.array([(lat), (long), (altitude), (pathlength)], dtype = [('Latitude', 'float32'), ('Longitude', 'float32'), ('Altitude', 'float32'), ('PathLength', 'float32')])\n",
    "    return metadata, geodata\n",
    "\n",
    "def listDatasets(hdf5File):\n",
    "    \"\"\"\n",
    "    Returns a list of datasets in a HyTAS HDF file\n",
    "    \n",
    "    Parameters:\n",
    "    -----------\n",
    "    (1) hdf5File: string\n",
    "    Name of the HDF5 file obtained from the HyTAS site.\n",
    "    \"\"\"\n",
    "    \n",
    "    tmp = h5py.File(hdf5File, mode='r')\n",
    "    datasets = list(tmp.keys())\n",
    "    return datasets\n",
    "\n",
    "def retrieveDataset(hdf5File, hdrFile, datasetName):\n",
    "    \"\"\"\n",
    "    Returns a dataset from the HyTAS HDF5 file\n",
    "    \n",
    "    Parameters:\n",
    "    -----------\n",
    "    (1) hdf5File: string\n",
    "    Name of the HDF5 file obtained from the HyTAS site.\n",
    "    \n",
    "    (2) hdrFile: string\n",
    "    Name of the .hdr file obtained from the HyTAS site. This should be the file that mataches the HDF5 file that holds data. \n",
    "    \n",
    "    (3) datasetName: A list of strings\n",
    "    The dataset(s) that you want to retrieve\n",
    "    \n",
    "    Returns\n",
    "    ----------\n",
    "    (1) A hdf5 dataset containing datasets listed in the datasetName\n",
    "    \n",
    "    \"\"\"\n",
    "    \n",
    "    # Get the size of data\n",
    "    metadata = geoInfo(hdrFile)[0]\n",
    "    samples = int(metadata.get('samples'))\n",
    "    lines = int(metadata.get('lines'))\n",
    "    \n",
    "    #Create empty numpy array\n",
    "    \n",
    "    dataArray = np.empty(shape = (len(datasetName), lines, samples), dtype = 'float32')\n",
    "    \n",
    "    tmp = h5py.File(hdf5File, mode='r')\n",
    "    \n",
    "    for i in range(len(datasetName)):\n",
    "        dataset = tmp[datasetName[i]]\n",
    "        dataArray[i,:,:] = dataset\n",
    "    \n",
    "    return (dataArray)\n",
    " \n",
    "def retrieveDatasetAlt(hdf5File, datasetName):\n",
    "    \"\"\"\n",
    "    Returns a dataset from the HyTAS HDF5 file. I am making this function because retrieveDataset, the main function, \n",
    "    can return error because the lines and samples returned by the .hdr file does not match with the size of the dataset. THIS SHOULD NOT HAPPEN.\n",
    "    So, use this function only if the 'retrieveDataset' errors \n",
    "    \n",
    "    Parameters:\n",
    "    -----------\n",
    "    (1) hdf5File: string\n",
    "    Name of the HDF5 file obtained from the HyTAS site.\n",
    "       \n",
    "    (2) datasetName: A string\n",
    "    The name of the dataset that you want to retrieve\n",
    "    \n",
    "    Returns\n",
    "    ----------\n",
    "    (1) A hdf5 dataset\n",
    "    \n",
    "    \"\"\"\n",
    "    \n",
    "    tmp = h5py.File(hdf5File, mode='r')\n",
    "    \n",
    "    dataset = tmp[datasetName]       # Without parentheses it is a h5py dataset, not it is a numpy array\n",
    "    return (dataset)    "
   ]
  },
  {
   "cell_type": "code",
   "execution_count": 6,
   "metadata": {},
   "outputs": [
    {
     "name": "stdout",
     "output_type": "stream",
     "text": [
      "Datasets in the file: ['ISAC_Path_Rad', 'ISAC_Skydown_Rad', 'L2_Emissivity', 'L2_Emissivity_PC', 'L2_Emissivity_Wavelengths', 'L2_Emissivity_Wavelengths_PC', 'L2_LST', 'Transmission']\n"
     ]
    }
   ],
   "source": [
    "# Get information of datasets in the HDF5 file\n",
    "hytes = h5py.File('20190912t164958_RiversideCA_L2.hdf5', mode='r')\n",
    "print('Datasets in the file: {}'.format(list(hytes.keys())))\n",
    "hytes.close()"
   ]
  },
  {
   "cell_type": "code",
   "execution_count": 8,
   "metadata": {},
   "outputs": [
    {
     "name": "stdout",
     "output_type": "stream",
     "text": [
      "Shape is (14340, 512)\n",
      "Type is <class 'h5py._hl.dataset.Dataset'>\n",
      "Type now is <class 'numpy.ndarray'>\n",
      "Shape if (14340, 512)\n"
     ]
    }
   ],
   "source": [
    "hytes = retrieveDatasetAlt('20190912t164958_RiversideCA_L2.hdf5', 'L2_LST')\n",
    "print('Shape is {}'.format(hytes.shape))\n",
    "print('Type is {}'.format(type(hytes)))\n",
    "\n",
    "# Convert to numpy array\n",
    "hytes = np.array(hytes[:])\n",
    "print('Type now is {}'.format(type(hytes)))\n",
    "print('Shape if {}'.format(hytes.shape))"
   ]
  },
  {
   "cell_type": "markdown",
   "metadata": {},
   "source": [
    "Let us save as a GeoTIFF so that we can use it for plotting and analysis. "
   ]
  },
  {
   "cell_type": "code",
   "execution_count": 10,
   "metadata": {},
   "outputs": [
    {
     "name": "stdout",
     "output_type": "stream",
     "text": [
      "(33.784634, 33.784634, 33.784634, 33.784634)\n",
      "(-116.57019, -116.57019, -116.57019, -116.57019)\n"
     ]
    }
   ],
   "source": [
    "latitude = np.squeeze(geodata[0,:,:])\n",
    "longitude = np.squeeze(geodata[1,:,:])\n",
    "\n",
    "\n",
    "print(latitude[1,1])      # It is a tuple of 4 with same corrdinate location repeated\n",
    "print(longitude[1,1])     # It is a tuple of 4 with same corrdinate location repeated\n",
    "\n",
    "\n",
    "# Extract one coordinate to make a point layer\n",
    "latitude1 = np.empty((14327, 512))\n",
    "longitude1 = np.empty((14327, 512))\n",
    "for i in range(0,14327,1):\n",
    "    for j in range(0, 512, 1):\n",
    "        tmp = latitude[i,j]\n",
    "        latitude1[i,j] = tmp[0]\n",
    "        tmp = longitude[i,j]\n",
    "        longitude1[i,j] = tmp[0]"
   ]
  },
  {
   "cell_type": "code",
   "execution_count": 21,
   "metadata": {},
   "outputs": [
    {
     "data": {
      "text/html": [
       "<div>\n",
       "<style scoped>\n",
       "    .dataframe tbody tr th:only-of-type {\n",
       "        vertical-align: middle;\n",
       "    }\n",
       "\n",
       "    .dataframe tbody tr th {\n",
       "        vertical-align: top;\n",
       "    }\n",
       "\n",
       "    .dataframe thead th {\n",
       "        text-align: right;\n",
       "    }\n",
       "</style>\n",
       "<table border=\"1\" class=\"dataframe\">\n",
       "  <thead>\n",
       "    <tr style=\"text-align: right;\">\n",
       "      <th></th>\n",
       "      <th>LST</th>\n",
       "      <th>geometry</th>\n",
       "    </tr>\n",
       "  </thead>\n",
       "  <tbody>\n",
       "    <tr>\n",
       "      <th>0</th>\n",
       "      <td>315.745514</td>\n",
       "      <td>POINT (-116.57059 33.78431)</td>\n",
       "    </tr>\n",
       "    <tr>\n",
       "      <th>1</th>\n",
       "      <td>315.520660</td>\n",
       "      <td>POINT (-116.57019 33.78463)</td>\n",
       "    </tr>\n",
       "    <tr>\n",
       "      <th>2</th>\n",
       "      <td>317.767639</td>\n",
       "      <td>POINT (-116.56985 33.78491)</td>\n",
       "    </tr>\n",
       "    <tr>\n",
       "      <th>3</th>\n",
       "      <td>318.059143</td>\n",
       "      <td>POINT (-116.56953 33.78518)</td>\n",
       "    </tr>\n",
       "    <tr>\n",
       "      <th>4</th>\n",
       "      <td>315.059143</td>\n",
       "      <td>POINT (-116.56921 33.78544)</td>\n",
       "    </tr>\n",
       "  </tbody>\n",
       "</table>\n",
       "</div>"
      ],
      "text/plain": [
       "          LST                     geometry\n",
       "0  315.745514  POINT (-116.57059 33.78431)\n",
       "1  315.520660  POINT (-116.57019 33.78463)\n",
       "2  317.767639  POINT (-116.56985 33.78491)\n",
       "3  318.059143  POINT (-116.56953 33.78518)\n",
       "4  315.059143  POINT (-116.56921 33.78544)"
      ]
     },
     "execution_count": 21,
     "metadata": {},
     "output_type": "execute_result"
    }
   ],
   "source": [
    "df = pd.DataFrame({'LST': hytes.flatten(), 'longitude': longitude1.flatten(), 'latitude': latitude1.flatten()})\n",
    "\n",
    "# Convert to geodataframe\n",
    "pointDf = gp.GeoDataFrame(df['LST'], geometry=gp.points_from_xy(x = df.longitude, y = df.latitude), crs=\"EPSG:4326\")\n",
    "pointDf.head()\n",
    "\n",
    "#pointDf.to_file('/Users/manishve/Desktop/riverside.shp')"
   ]
  },
  {
   "cell_type": "markdown",
   "metadata": {},
   "source": [
    "Create polygon geometry, assume that the lat long points are mid points of each pixel. Convert to projected coordinate system. Riverside is in zone 6 of California's state plane systems. It is EPSG:26946."
   ]
  },
  {
   "cell_type": "code",
   "execution_count": null,
   "metadata": {},
   "outputs": [],
   "source": []
  }
 ],
 "metadata": {
  "kernelspec": {
   "display_name": "Python 3",
   "language": "python",
   "name": "python3"
  },
  "language_info": {
   "codemirror_mode": {
    "name": "ipython",
    "version": 3
   },
   "file_extension": ".py",
   "mimetype": "text/x-python",
   "name": "python",
   "nbconvert_exporter": "python",
   "pygments_lexer": "ipython3",
   "version": "3.8.2"
  }
 },
 "nbformat": 4,
 "nbformat_minor": 4
}
